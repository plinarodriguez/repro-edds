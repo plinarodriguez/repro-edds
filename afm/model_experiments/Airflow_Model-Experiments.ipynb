{
 "cells": [
  {
   "cell_type": "code",
   "execution_count": 1,
   "metadata": {},
   "outputs": [],
   "source": [
    "# Libraries\n",
    "import pandas as pd\n",
    "import numpy as np\n",
    "import matplotlib.pyplot as plt\n",
    "import problem_description\n",
    "%run problem_description.py  # my problem specs\n",
    "import data_processing\n",
    "%run data_processing.py   # data processing"
   ]
  },
  {
   "cell_type": "markdown",
   "metadata": {},
   "source": [
    "# Computational Model \n",
    "This analysis was performed on the Electronic Drug Delivery System (EDDS) with the following geometry, boundary conditions, and solver specifications. \n",
    "\n",
    "#### Operating Conditions\n",
    "Boundary Conditions\n",
    "- Inlet velocity: 0.630 [m s^-1]\n",
    "- Outlet Pressure: 101.33 [kPa]\n",
    "- Nonslip Walls\n",
    "\n",
    "Solver Tolerance\n",
    "- Residual Target: 1e-05 \n",
    "\n",
    "System State\n",
    "- Steady State\n",
    "\n",
    "Fluid Type\n",
    "- Air at room temperature (incompressible fluid)"
   ]
  },
  {
   "cell_type": "code",
   "execution_count": 6,
   "metadata": {},
   "outputs": [
    {
     "name": "stdout",
     "output_type": "stream",
     "text": [
      "GEOMETRY SPECIFICATIONS: \n",
      "         label  Diameter[mm]  Length[mm]  Thickness[mm]\n",
      "0  Mouthpiece          8.02      13.960           0.13\n",
      "1        Pipe          4.54      27.955           0.15\n",
      "2    Atomizer          4.54       7.500           0.15\n",
      "3  Inlet Pipe          4.54       2.170           0.15 \n",
      " {'Coil_qty': 10, 'Coil_Diameter': 0.3, 'Coil_Spacing': 0.5} \n",
      " \n",
      " MESH SPECIFICATIONS: \n",
      " {'Nodes': 2278204, 'Elements': 13225239}\n"
     ]
    }
   ],
   "source": [
    "\n",
    "print('GEOMETRY SPECIFICATIONS: \\n',geom_db,'\\n',coil10,'\\n \\n MESH SPECIFICATIONS: \\n', mesh_stats)"
   ]
  },
  {
   "cell_type": "markdown",
   "metadata": {},
   "source": [
    "### Results - Nominal Case"
   ]
  },
  {
   "cell_type": "code",
   "execution_count": 10,
   "metadata": {
    "scrolled": false
   },
   "outputs": [],
   "source": [
    "plt.figure(figsize=(11,6))\n",
    "plt.xlabel('\\n Position [mm]')\n",
    "plt.ylabel('Velocity [m/s] \\n')\n",
    "plt.title('Diameter 1mm above Mouthpiece \\n')\n",
    "plt.plot((nominal[' Y [ m ]']-center)*1e3, nominal[' Velocity [ m s^-1 ]'],'-',color='green', label='Nominal',linewidth=4)\n",
    "plt.legend()\n",
    "plt.grid()\n",
    "plt.savefig('figures/simulation_nominal.png', dpi=300)"
   ]
  },
  {
   "cell_type": "markdown",
   "metadata": {},
   "source": [
    "### Results - Sampling Case\n",
    "To generate simulation samples, the volumetric flow rate (VFR) was measured in three replicate experiments. The following inlet velocities were obtained, considering the input uncertainty associated with the VFR. \n",
    "\n",
    "Inlet Velocity by Sample \n",
    "- Sample 1: 0.63000 [m/s]\n",
    "- Sample 2: 0.63329 [m/s]\n",
    "- Sample 3: 0.06420 [m/s]"
   ]
  },
  {
   "cell_type": "code",
   "execution_count": 11,
   "metadata": {},
   "outputs": [],
   "source": [
    "plt.figure(figsize=(16,5))\n",
    "plt.subplot(1, 2, 1)\n",
    "plt.xlabel('\\n Position [mm]')\n",
    "plt.ylabel('Velocity [m/s]\\n')\n",
    "plt.title('Simulation Samples \\n')\n",
    "plt.axis([-10,10,0,1.2])\n",
    "plt.plot((sim1[' Y [ m ]']-center1)*1e3, sim1[' Velocity [ m s^-1 ]'],'-',color='green', label='Sample 1',linewidth=3)\n",
    "plt.plot((sim2[' Y [ m ]']-center2)*1e3, sim2[' Velocity [ m s^-1 ]'],'-',color='limegreen', label='Sample 2',linewidth=3)\n",
    "plt.plot((sim3[' Y [ m ]']-center3)*1e3, sim3[' Velocity [ m s^-1 ]'],'-',color='darkgreen', label='Sample 3',linewidth=3)\n",
    "plt.legend(loc='upper right')\n",
    "plt.xticks([-10,-8,-6,-4,-2,0,2,4,6,8,10])\n",
    "plt.grid()\n",
    "\n",
    "plt.subplot(1, 2, 2)\n",
    "plt.xlabel('\\n Position [mm]')\n",
    "plt.title('Simulation - Statistics\\n')\n",
    "plt.axis([-10,10,0,1.2])\n",
    "plt.plot((sim1[' Y [ m ]']-center1)*1e3, avgsim, '-k', linewidth=3, label='Mean')\n",
    "plt.plot((sim2[' Y [ m ]']-center2)*1e3, plussim,linestyle='-',label=\"Standard Error\",color=\"gray\")\n",
    "plt.plot((sim3[' Y [ m ]']-center3)*1e3, minussim,linestyle='-',color=\"gray\")\n",
    "plt.fill_between((sim1[' Y [ m ]']-center1)*1e3,plussim, minussim, color=\"lightgray\")\n",
    "plt.xticks([-10,-8,-6,-4,-2,0,2,4,6,8,10])\n",
    "plt.legend(loc='upper right')\n",
    "plt.grid()\n",
    "plt.savefig('figures/simulation_samples.png', dpi=300)"
   ]
  },
  {
   "cell_type": "markdown",
   "metadata": {},
   "source": [
    "# Experiments"
   ]
  },
  {
   "cell_type": "code",
   "execution_count": 12,
   "metadata": {},
   "outputs": [],
   "source": [
    "plt.figure(figsize=(16,5))\n",
    "plt.subplot(1, 2, 1)\n",
    "plt.xlabel('\\n Position [mm]')\n",
    "plt.ylabel('Velocity [m/s] \\n')\n",
    "plt.title('Experiment Samples \\n')\n",
    "plt.plot(expS1['x (mm)']-5.36,expS1['V (m/s)'],'-o',color='cyan', label='Sample 1',linewidth=3)\n",
    "plt.plot(expS2['x (mm)']-5.39655,expS2['V (m/s)'],'-o',color='navy', label='Sample 2',linewidth=3)\n",
    "plt.plot(expS3['x (mm)'][2:]-5.60712,expS3['V (m/s)'][2:],'-o',color='dodgerblue', label='Sample 3',linewidth=3)\n",
    "plt.axis([-3,3,0,1.2])\n",
    "plt.legend()\n",
    "plt.grid()\n",
    "\n",
    "plt.subplot(1, 2, 2)\n",
    "plt.xlabel('\\n Position [mm]')\n",
    "plt.title('Experiment Statistics \\n')\n",
    "plt.plot(expS2['x (mm)']-5.39655,avgexp, '-k', linewidth=3, label='Mean')\n",
    "plt.plot(expS2['x (mm)']-5.39655, plus,linestyle='-',label=\"Standard Error\",color=\"gray\")\n",
    "plt.plot(expS2['x (mm)']-5.39655, minus,linestyle='-',color=\"gray\")\n",
    "plt.fill_between(expS2['x (mm)']-5.39655,plus, minus, color=\"lightgray\")\n",
    "plt.axis([-3,3,0,1.2])\n",
    "plt.legend()\n",
    "plt.grid()\n",
    "plt.savefig('figures/experiments_samples.png', dpi=300)"
   ]
  },
  {
   "cell_type": "code",
   "execution_count": null,
   "metadata": {},
   "outputs": [],
   "source": []
  }
 ],
 "metadata": {
  "kernelspec": {
   "display_name": "Python 3 (ipykernel)",
   "language": "python",
   "name": "python3"
  },
  "language_info": {
   "codemirror_mode": {
    "name": "ipython",
    "version": 3
   },
   "file_extension": ".py",
   "mimetype": "text/x-python",
   "name": "python",
   "nbconvert_exporter": "python",
   "pygments_lexer": "ipython3",
   "version": "3.8.8"
  }
 },
 "nbformat": 4,
 "nbformat_minor": 2
}
