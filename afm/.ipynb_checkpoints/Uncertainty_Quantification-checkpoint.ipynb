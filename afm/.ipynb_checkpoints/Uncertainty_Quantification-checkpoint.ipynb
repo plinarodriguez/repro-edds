{
 "cells": [
  {
   "cell_type": "code",
   "execution_count": 1,
   "id": "ecf37530",
   "metadata": {},
   "outputs": [],
   "source": [
    "# Libraries\n",
    "import pandas as pd\n",
    "import numpy as np\n",
    "import matplotlib.pyplot as plt\n",
    "import problem_description\n",
    "%run problem_description.py  # my problem specs\n",
    "import AFM_postprocess\n",
    "%run AFM_postprocess.py   # data collection"
   ]
  },
  {
   "cell_type": "code",
   "execution_count": 2,
   "id": "7d724fa5",
   "metadata": {},
   "outputs": [],
   "source": [
    "################ Functions to calculate the UQ's ###################\n",
    "# u_input\n",
    "def inputUQ(vel_1, vel_2, du):\n",
    "    dO = np.abs(vel_1 - vel_2)  # Diff in Outputs \n",
    "#     du = numpy.abs()         # Diff in uncertainties\n",
    "    u_input  = dO/du              # Sensitivity based on uncertainty\n",
    "    #print(dO)\n",
    "    return u_input\n",
    "\n",
    "# u_num  - Functions for calculation\n",
    "def fixPtItr(r_21,r_32,e_21,e_32,s,p):\n",
    "    p_new = (1/np.log(r_21))*np.abs(np.log(np.abs(e_32/e_21)\n",
    "                                               )+np.log(((r_21**p) - s)/\n",
    "                                                    (((r_32**p) - s))))\n",
    "    return p_new\n",
    "\n",
    "# u_d\n",
    "\n",
    "#Convert to m/s\n",
    "def convVS(num_LM): \n",
    "    num_VS = num_LM *(1/60000)/(np.pi*(4.54/2000)**2)\n",
    "    return num_VS"
   ]
  },
  {
   "cell_type": "markdown",
   "id": "b23fac0f",
   "metadata": {},
   "source": [
    "#### Calcualte the CGI for u_num"
   ]
  },
  {
   "cell_type": "code",
   "execution_count": 3,
   "id": "a389d3cd",
   "metadata": {},
   "outputs": [
    {
     "data": {
      "text/plain": [
       "0.000902907345047799"
      ]
     },
     "execution_count": 3,
     "metadata": {},
     "output_type": "execute_result"
    }
   ],
   "source": [
    "maxiter=101\n",
    "rtol=1e-20\n",
    "N = 100\n",
    "fs = 1.25\n",
    "\n",
    "# Mesh or grid size h \n",
    "h1 = 0.000122  # Fine Mesh (M 4-3)\n",
    "h2 = 0.000190  # Medium Mesh (M 3-4)\n",
    "h3 = 0.000253  # Coarse Mesh (M 3-0)\n",
    "\n",
    "# Phi = Velocity @ 1mm above mouthpiece Max\n",
    "phi_1 = 0.982088387    # velocity in m/s\n",
    "phi_2 = 0.9809986949   # velocity in m/s\n",
    "phi_3 = 0.9636819363   # velocity in m/s\n",
    "\n",
    "# Mesh: h_coarse/h_fine \n",
    "r_21 =  h2/h1 # h_2/h_1   \n",
    "r_32 =  h3/h2 # h_3/h_2\n",
    "e_21 = phi_2-phi_1 \n",
    "e_32 = phi_3-phi_2 \n",
    "\n",
    "# s is the sign of e32/e21\n",
    "if (e_32/e_21)< 0:\n",
    "    s = -1\n",
    "elif (e_32/e_21)> 0:\n",
    "    s = 1    \n",
    "    \n",
    "conv = []          # convergence history\n",
    "diff = rtol + 1    # initial difference\n",
    "ite = 0            # iteration index\n",
    "p = np.zeros(N) # Holds all p values \n",
    "\n",
    "# Initial p value assuming q(p) = 0 \n",
    "p[0] = (1/np.log(r_21))*np.abs(np.log(np.abs(e_32/e_21)))\n",
    "\n",
    "n = 0;  # Since at p[0] is initial value \n",
    "while diff > rtol and ite <maxiter: \n",
    "    # Calculating the next p value \n",
    "    p[n+1] = fixPtItr(r_21,r_32,e_21,e_32,s,p[n])\n",
    "\n",
    "    # Compute the relative L2-Norm of the difference\n",
    "    diff = np.sqrt(np.sum((p[n+1] - p[n])**2))\n",
    "    #diff = numpy.abs(p[n+1] - p[n])\n",
    "\n",
    "    #conv.append(diff)\n",
    "    ite += 1\n",
    "    n += 1\n",
    "ord_p = p[n]\n",
    "\n",
    "# Calculate the Extrapolated Values\n",
    "phi_ext_21 = ((phi_1*r_21**ord_p)-phi_2)/(r_21**ord_p-1) # Extrapolated values \n",
    "phi_ext_32 = ((phi_1*r_32**ord_p)-phi_2)/(r_32**ord_p-1) # Extrapolated values \n",
    "\n",
    "# Approximate Relative Error as % (*100)\n",
    "e_a_32 = np.abs((phi_2-phi_3)/phi_2)*100\n",
    "e_a_21 = np.abs((phi_1-phi_2)/phi_1)*100\n",
    "\n",
    "# Extrapolated Relative Error\n",
    "e_ext_21 = np.abs((phi_ext_21-phi_1)/phi_ext_21)*100\n",
    "\n",
    "# Grid Convergence Index  (no dimension?)\n",
    "gci_fine_21 = (fs*e_a_21)/((r_21**ord_p)-1)\n",
    "\n",
    "# GCI to u_num \n",
    "u_num = gci_fine_21/2 \n",
    "u_num"
   ]
  },
  {
   "cell_type": "markdown",
   "id": "cc8768d3",
   "metadata": {},
   "source": [
    "#### Calculate the u_input (m/s)"
   ]
  },
  {
   "cell_type": "code",
   "execution_count": 4,
   "id": "bd92b946",
   "metadata": {},
   "outputs": [
    {
     "data": {
      "text/plain": [
       "0.10584165932278579"
      ]
     },
     "execution_count": 4,
     "metadata": {},
     "output_type": "execute_result"
    }
   ],
   "source": [
    "# u_input(vel_1, vel_2, u1, u2)\n",
    "#u1 =  # Uncertainty Associated w/ VFR for Sim 1 \n",
    "#u2 =  # Uncertainty Associated w/ VFR for Sim 2\n",
    "\n",
    "#du_Lm = 0.001 # VFR inlet L/min\n",
    "du_Lm = 0.01 # VFR inlet L/min \n",
    "\n",
    "du = convVS(du_Lm)\n",
    "# Convert to m/s\n",
    "du = du_Lm *(1/60000)/(np.pi*(4.54/2000)**2)\n",
    "\n",
    "u_input = inputUQ(phi_1, phi_2, du)  # dV/ds : DIff in velocity output /diff in inlet VFR \n",
    "#u_input = numpy.abs(phi_1- phi_2)     # Only diff in output \n",
    "u_input"
   ]
  },
  {
   "cell_type": "markdown",
   "id": "93c98cc8",
   "metadata": {},
   "source": [
    "#### Calculate u_d (m/s)\n"
   ]
  },
  {
   "cell_type": "code",
   "execution_count": 5,
   "id": "23c509be",
   "metadata": {},
   "outputs": [
    {
     "data": {
      "text/plain": [
       "0.0010295493352733111"
      ]
     },
     "execution_count": 5,
     "metadata": {},
     "output_type": "execute_result"
    }
   ],
   "source": [
    "# Measured variables\n",
    "s_u = 0.0     # Random Uncertainty \n",
    "b_u_LM = 0.001   # Systematic Uncerainty (L/min)\n",
    "\n",
    "b_u = convVS(b_u_LM) # Convert to m/s\n",
    "\n",
    "u_d = np.sqrt(s_u**2 + b_u**2)  # L/min\n",
    "u_d"
   ]
  },
  {
   "cell_type": "markdown",
   "id": "08610581",
   "metadata": {},
   "source": [
    "#### Calculate u_val (m/s)"
   ]
  },
  {
   "cell_type": "code",
   "execution_count": 6,
   "id": "f806a98e",
   "metadata": {},
   "outputs": [
    {
     "data": {
      "text/plain": [
       "0.1058505175316028"
      ]
     },
     "execution_count": 6,
     "metadata": {},
     "output_type": "execute_result"
    }
   ],
   "source": [
    "u_val = np.sqrt(u_d**2 + u_input**2 + u_num**2)\n",
    "u_val"
   ]
  },
  {
   "cell_type": "markdown",
   "id": "1b20b1c3",
   "metadata": {},
   "source": [
    "#### Calculate final prediction with uncertainty"
   ]
  },
  {
   "cell_type": "code",
   "execution_count": 7,
   "id": "89cbd769",
   "metadata": {},
   "outputs": [
    {
     "data": {
      "text/plain": [
       "0.9755896727333333"
      ]
     },
     "execution_count": 7,
     "metadata": {},
     "output_type": "execute_result"
    }
   ],
   "source": [
    "srqs = [phi_1,phi_2,phi_3]\n",
    "srqMean = np.mean(srqs)\n",
    "srqMean"
   ]
  },
  {
   "cell_type": "markdown",
   "id": "c062697d",
   "metadata": {},
   "source": [
    "The final uncertainty in the results is $0.976 \\pm 0.106$ [m/s] "
   ]
  },
  {
   "cell_type": "code",
   "execution_count": null,
   "id": "36a9facb",
   "metadata": {},
   "outputs": [],
   "source": []
  }
 ],
 "metadata": {
  "kernelspec": {
   "display_name": "Python 3 (ipykernel)",
   "language": "python",
   "name": "python3"
  },
  "language_info": {
   "codemirror_mode": {
    "name": "ipython",
    "version": 3
   },
   "file_extension": ".py",
   "mimetype": "text/x-python",
   "name": "python",
   "nbconvert_exporter": "python",
   "pygments_lexer": "ipython3",
   "version": "3.8.8"
  }
 },
 "nbformat": 4,
 "nbformat_minor": 5
}
