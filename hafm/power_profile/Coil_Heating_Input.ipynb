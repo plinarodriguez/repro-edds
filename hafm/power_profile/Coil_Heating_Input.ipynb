{
 "cells": [
  {
   "cell_type": "code",
   "execution_count": 1,
   "metadata": {},
   "outputs": [],
   "source": [
    "import numpy as np\n",
    "import math\n",
    "import csv\n",
    "import glob\n",
    "import pandas as pd\n",
    "from matplotlib import pyplot\n",
    "from IPython.display import HTML, display\n",
    "%matplotlib inline "
   ]
  },
  {
   "cell_type": "code",
   "execution_count": 2,
   "metadata": {},
   "outputs": [],
   "source": [
    "# Set the font family and size to use for Matplotlib figures.\n",
    "pyplot.rcParams['font.family'] = 'serif'\n",
    "pyplot.rcParams['font.size'] = 14"
   ]
  },
  {
   "cell_type": "code",
   "execution_count": 3,
   "metadata": {},
   "outputs": [
    {
     "name": "stdout",
     "output_type": "stream",
     "text": [
      "C:\\Users\\Paulina.Rodriguez\\Desktop\\pausWorld\\HAFM_Analysis\\Analysis_Heat_Transfer_2022-CURRENT\\Full_Geometry\\power_data\n"
     ]
    }
   ],
   "source": [
    "cd power_data"
   ]
  },
  {
   "cell_type": "code",
   "execution_count": 69,
   "metadata": {},
   "outputs": [],
   "source": [
    "duration = 1.9732759967     # Amount of time it takes to reach applied power [seconds] \n",
    "power = 0.999986638         # Appliew power [Watts]\n",
    "poweron = 10.0                  # Applied power on for 10 [seconds] - DON'T CHANGE\n",
    "volume12 = 13.1533              # Volume of 12 coils - DON'T CHANGE"
   ]
  },
  {
   "cell_type": "code",
   "execution_count": 70,
   "metadata": {},
   "outputs": [],
   "source": [
    "# creating data\n",
    "x = np.linspace(0.0,duration,100) #(0, 0.99,100)\n",
    "y = (1/duration)*x      ##BEST FIT is with x**3!!!!!      #x ,# x**2, x**3, x**(1/2), x**(1/3)\n",
    "y3 = ((-1)*(1/duration)*(x**(1)))+1 #((-1)*(x**(1)))+1                 #x ,# x**2, x**3, x**(1/2), x**(1/3)\n",
    "# y = x  # y2 = x**2 # y3 = x**3 # ysqrt = x**(1/2) # ycbrt = x**(1/3) ## just for plotting purposes "
   ]
  },
  {
   "cell_type": "code",
   "execution_count": 71,
   "metadata": {},
   "outputs": [],
   "source": [
    "# Ranges necessary for ANSYS power applied parameter\n",
    "x_a1= np.array([duration+0.01,poweron-0.001]) #[1.01,9.999])\n",
    "x_a2= np.array([poweron+0.001,15])\n",
    "x_a3= np.linspace(poweron+0.001,poweron+duration,100) #(10.0,10.2,100) #(10.0,11.0,100)\n",
    "x_a4= np.array([poweron+duration+0.01,15]) #[10.201,15]) # [11.001,15])\n",
    "x_a5= np.linspace(poweron,15.0,100)\n",
    "\n",
    "y_a1= np.array([1,1])\n",
    "y_a2= np.array([0,0])\n",
    "y_a4= np.array([0,0])"
   ]
  },
  {
   "cell_type": "code",
   "execution_count": 72,
   "metadata": {},
   "outputs": [
    {
     "data": {
      "text/html": [
       "<div>\n",
       "<style scoped>\n",
       "    .dataframe tbody tr th:only-of-type {\n",
       "        vertical-align: middle;\n",
       "    }\n",
       "\n",
       "    .dataframe tbody tr th {\n",
       "        vertical-align: top;\n",
       "    }\n",
       "\n",
       "    .dataframe thead th {\n",
       "        text-align: right;\n",
       "    }\n",
       "</style>\n",
       "<table border=\"1\" class=\"dataframe\">\n",
       "  <thead>\n",
       "    <tr style=\"text-align: right;\">\n",
       "      <th></th>\n",
       "      <th>t[s]</th>\n",
       "      <th>Power[W m^-3]</th>\n",
       "    </tr>\n",
       "  </thead>\n",
       "  <tbody>\n",
       "    <tr>\n",
       "      <th>0</th>\n",
       "      <td>0.000000</td>\n",
       "      <td>0.000000e+00</td>\n",
       "    </tr>\n",
       "    <tr>\n",
       "      <th>1</th>\n",
       "      <td>0.019932</td>\n",
       "      <td>7.679347e+05</td>\n",
       "    </tr>\n",
       "    <tr>\n",
       "      <th>2</th>\n",
       "      <td>0.039864</td>\n",
       "      <td>1.535869e+06</td>\n",
       "    </tr>\n",
       "    <tr>\n",
       "      <th>3</th>\n",
       "      <td>0.059796</td>\n",
       "      <td>2.303804e+06</td>\n",
       "    </tr>\n",
       "    <tr>\n",
       "      <th>4</th>\n",
       "      <td>0.079728</td>\n",
       "      <td>3.071739e+06</td>\n",
       "    </tr>\n",
       "  </tbody>\n",
       "</table>\n",
       "</div>"
      ],
      "text/plain": [
       "       t[s]  Power[W m^-3]\n",
       "0  0.000000   0.000000e+00\n",
       "1  0.019932   7.679347e+05\n",
       "2  0.039864   1.535869e+06\n",
       "3  0.059796   2.303804e+06\n",
       "4  0.079728   3.071739e+06"
      ]
     },
     "execution_count": 72,
     "metadata": {},
     "output_type": "execute_result"
    }
   ],
   "source": [
    "x_on  = np.concatenate((x,x_a1,x_a2))\n",
    "x_off = np.concatenate((x,x_a1,x_a3,x_a4))\n",
    "x_off_1 = np.concatenate((x,x_a1,x_a5))\n",
    "\n",
    "y_on  = np.concatenate((y,y_a1,y_a2))\n",
    "y_on_Wm =y_on*(power/volume12)*(1e9)    # divide by coil volume in mm and convert to meters\n",
    "y_off = np.concatenate((y,y_a1,y3,y_a4)) # Assumes y has been established first!\n",
    "y_off_Wm =y_off*(power/volume12)*(1e9)    # divide by coil volume in mm and convert to meters\n",
    "\n",
    "y_off_1 = np.concatenate((y,y_a1,y3)) # Assumes y has been established first!\n",
    "y_off_1_Wm =y_off_1*(power/volume12)*(1e9)    # divide by coil volume in mm and convert to meters\n",
    "\n",
    "data = {'t[s]': x_off, 'Power[W m^-3]':y_off_Wm} #'Power[W]':y_on, \n",
    "data_ansys_power = pd.DataFrame(data,columns=['t[s]','Power[W m^-3]']) #'Power[W]',\n",
    "data_ansys_power.to_csv('../power_data/samples_LHS/sample10.csv', index=False)\n",
    "data_ansys_power.head()"
   ]
  },
  {
   "cell_type": "code",
   "execution_count": 63,
   "metadata": {},
   "outputs": [
    {
     "data": {
      "image/png": "[encoded data removed]",
      "text/plain": [
       "<Figure size 432x288 with 1 Axes>"
      ]
     },
     "metadata": {},
     "output_type": "display_data"
    }
   ],
   "source": [
    "pyplot.title('Applied Power On & Off')\n",
    "pyplot.xlabel('time [s]')\n",
    "pyplot.ylabel('Power/Volume [W/$m^3$]')\n",
    "pyplot.plot(x_off,y_off_Wm,label='y = x');\n",
    "# pyplot.xlim(10,12.0)\n",
    "pyplot.legend(prop={'size':15})\n",
    "pyplot.grid(color='lightgray', linestyle='-', linewidth=0.5) "
   ]
  },
  {
   "cell_type": "code",
   "execution_count": null,
   "metadata": {},
   "outputs": [],
   "source": []
  },
  {
   "cell_type": "code",
   "execution_count": null,
   "metadata": {},
   "outputs": [],
   "source": []
  }
 ],
 "metadata": {
  "kernelspec": {
   "display_name": "Python 3 (ipykernel)",
   "language": "python",
   "name": "python3"
  },
  "language_info": {
   "codemirror_mode": {
    "name": "ipython",
    "version": 3
   },
   "file_extension": ".py",
   "mimetype": "text/x-python",
   "name": "python",
   "nbconvert_exporter": "python",
   "pygments_lexer": "ipython3",
   "version": "3.8.8"
  }
 },
 "nbformat": 4,
 "nbformat_minor": 2
}
