{
 "cells": [
  {
   "cell_type": "code",
   "execution_count": 16,
   "metadata": {},
   "outputs": [],
   "source": [
    "import numpy as np\n",
    "import math\n",
    "import problem_description\n",
    "%run problem_description.py"
   ]
  },
  {
   "cell_type": "markdown",
   "metadata": {},
   "source": [
    "## Uncertainties\n",
    "\n",
    "Velocity: \n",
    "- 0.5 L/min with uncertainty of 0.01 L/min <br>\n",
    "\n",
    "Power: \n",
    "- 1.0 Watts with uncertainty of 0.01 Watts <br>\n",
    "(1 [Watt] /13.1533 [mm^3] )*(1e^9[mm^3]/1[m]) \n",
    "\n",
    "## Input Uncertainties\n",
    "Using Latin Hypercube sampling in Dakota to generate samples by propogating the uncertainty from 2 parameters: Inlet Volumetric Flow Rate, Applied power. \n",
    "\n",
    "Assuming applied power is turned on and off for 2seconds. "
   ]
  },
  {
   "cell_type": "code",
   "execution_count": 17,
   "metadata": {},
   "outputs": [],
   "source": [
    "table = pd.read_table('data/edds_lhs.dat',sep=\"\\s+\")\n",
    "vfr = table['x1']      # volumetric flow rate [L/min]\n",
    "powerraw = table['x2'] # [W]"
   ]
  },
  {
   "cell_type": "code",
   "execution_count": 18,
   "metadata": {},
   "outputs": [
    {
     "data": {
      "text/html": [
       "<div>\n",
       "<style scoped>\n",
       "    .dataframe tbody tr th:only-of-type {\n",
       "        vertical-align: middle;\n",
       "    }\n",
       "\n",
       "    .dataframe tbody tr th {\n",
       "        vertical-align: top;\n",
       "    }\n",
       "\n",
       "    .dataframe thead th {\n",
       "        text-align: right;\n",
       "    }\n",
       "</style>\n",
       "<table border=\"1\" class=\"dataframe\">\n",
       "  <thead>\n",
       "    <tr style=\"text-align: right;\">\n",
       "      <th></th>\n",
       "      <th>0</th>\n",
       "      <th>1</th>\n",
       "      <th>2</th>\n",
       "      <th>3</th>\n",
       "    </tr>\n",
       "  </thead>\n",
       "  <tbody>\n",
       "    <tr>\n",
       "      <th>0</th>\n",
       "      <td></td>\n",
       "      <td>VFR [L/min]</td>\n",
       "      <td>Power[W]</td>\n",
       "      <td>Time to Max Power[s]</td>\n",
       "    </tr>\n",
       "    <tr>\n",
       "      <th>1</th>\n",
       "      <td>Sample1</td>\n",
       "      <td>0.49444</td>\n",
       "      <td>0.999854</td>\n",
       "      <td>1.708276</td>\n",
       "    </tr>\n",
       "    <tr>\n",
       "      <th>2</th>\n",
       "      <td>Sample2</td>\n",
       "      <td>0.497275</td>\n",
       "      <td>1.000266</td>\n",
       "      <td>2.531816</td>\n",
       "    </tr>\n",
       "    <tr>\n",
       "      <th>3</th>\n",
       "      <td>Sample3</td>\n",
       "      <td>0.506627</td>\n",
       "      <td>0.999797</td>\n",
       "      <td>1.593601</td>\n",
       "    </tr>\n",
       "    <tr>\n",
       "      <th>4</th>\n",
       "      <td>Sample4</td>\n",
       "      <td>0.509589</td>\n",
       "      <td>1.000491</td>\n",
       "      <td>2.981642</td>\n",
       "    </tr>\n",
       "    <tr>\n",
       "      <th>5</th>\n",
       "      <td>Sample5</td>\n",
       "      <td>0.491796</td>\n",
       "      <td>1.000308</td>\n",
       "      <td>2.616563</td>\n",
       "    </tr>\n",
       "    <tr>\n",
       "      <th>6</th>\n",
       "      <td>Sample6</td>\n",
       "      <td>0.494134</td>\n",
       "      <td>0.999897</td>\n",
       "      <td>1.793473</td>\n",
       "    </tr>\n",
       "    <tr>\n",
       "      <th>7</th>\n",
       "      <td>Sample7</td>\n",
       "      <td>0.507415</td>\n",
       "      <td>1.000018</td>\n",
       "      <td>2.036836</td>\n",
       "    </tr>\n",
       "    <tr>\n",
       "      <th>8</th>\n",
       "      <td>Sample8</td>\n",
       "      <td>0.508372</td>\n",
       "      <td>0.999688</td>\n",
       "      <td>1.375442</td>\n",
       "    </tr>\n",
       "    <tr>\n",
       "      <th>9</th>\n",
       "      <td>Sample9</td>\n",
       "      <td>0.499768</td>\n",
       "      <td>1.000112</td>\n",
       "      <td>2.223488</td>\n",
       "    </tr>\n",
       "    <tr>\n",
       "      <th>10</th>\n",
       "      <td>Sample10</td>\n",
       "      <td>0.491104</td>\n",
       "      <td>0.999987</td>\n",
       "      <td>1.973276</td>\n",
       "    </tr>\n",
       "  </tbody>\n",
       "</table>\n",
       "</div>"
      ],
      "text/plain": [
       "           0            1         2                     3\n",
       "0             VFR [L/min]  Power[W]  Time to Max Power[s]\n",
       "1    Sample1      0.49444  0.999854              1.708276\n",
       "2    Sample2     0.497275  1.000266              2.531816\n",
       "3    Sample3     0.506627  0.999797              1.593601\n",
       "4    Sample4     0.509589  1.000491              2.981642\n",
       "5    Sample5     0.491796  1.000308              2.616563\n",
       "6    Sample6     0.494134  0.999897              1.793473\n",
       "7    Sample7     0.507415  1.000018              2.036836\n",
       "8    Sample8     0.508372  0.999688              1.375442\n",
       "9    Sample9     0.499768  1.000112              2.223488\n",
       "10  Sample10     0.491104  0.999987              1.973276"
      ]
     },
     "execution_count": 18,
     "metadata": {},
     "output_type": "execute_result"
    }
   ],
   "source": [
    "inputsamples"
   ]
  },
  {
   "cell_type": "code",
   "execution_count": 19,
   "metadata": {},
   "outputs": [
    {
     "ename": "FileNotFoundError",
     "evalue": "[Errno 2] No such file or directory: 'data/LHS_samples_v2.out'",
     "output_type": "error",
     "traceback": [
      "\u001b[0;31m---------------------------------------------------------------------------\u001b[0m",
      "\u001b[0;31mFileNotFoundError\u001b[0m                         Traceback (most recent call last)",
      "Cell \u001b[0;32mIn[19], line 8\u001b[0m\n\u001b[1;32m      6\u001b[0m output_file \u001b[38;5;241m=\u001b[39m \u001b[38;5;124m'\u001b[39m\u001b[38;5;124mdata/vfr_timeToMaxPower.dat\u001b[39m\u001b[38;5;124m'\u001b[39m\n\u001b[1;32m      7\u001b[0m label \u001b[38;5;241m=\u001b[39m \u001b[38;5;124m'\u001b[39m\u001b[38;5;124mVFR TimeToMaxPower\u001b[39m\u001b[38;5;124m'\u001b[39m\n\u001b[0;32m----> 8\u001b[0m \u001b[43mconvertDat\u001b[49m\u001b[43m(\u001b[49m\u001b[43minput_file\u001b[49m\u001b[43m,\u001b[49m\u001b[43moutput_file\u001b[49m\u001b[43m,\u001b[49m\u001b[43mlabel\u001b[49m\u001b[43m)\u001b[49m\n",
      "File \u001b[0;32m~/Desktop/pausWorld/repro_edds/hafm/sampling/problem_description.py:85\u001b[0m, in \u001b[0;36mconvertDat\u001b[0;34m(input_file, output_file, label)\u001b[0m\n\u001b[1;32m     82\u001b[0m sample_data \u001b[38;5;241m=\u001b[39m []\n\u001b[1;32m     84\u001b[0m \u001b[38;5;66;03m# Open the .out file for reading\u001b[39;00m\n\u001b[0;32m---> 85\u001b[0m \u001b[38;5;28;01mwith\u001b[39;00m \u001b[38;5;28;43mopen\u001b[39;49m\u001b[43m(\u001b[49m\u001b[43minput_file\u001b[49m\u001b[43m,\u001b[49m\u001b[43m \u001b[49m\u001b[38;5;124;43m'\u001b[39;49m\u001b[38;5;124;43mr\u001b[39;49m\u001b[38;5;124;43m'\u001b[39;49m\u001b[43m)\u001b[49m \u001b[38;5;28;01mas\u001b[39;00m infile:\n\u001b[1;32m     86\u001b[0m     \u001b[38;5;66;03m# Flag to indicate if @SAMPLEDATA section has been reached\u001b[39;00m\n\u001b[1;32m     87\u001b[0m     read_sample_data \u001b[38;5;241m=\u001b[39m \u001b[38;5;28;01mFalse\u001b[39;00m\n\u001b[1;32m     89\u001b[0m     \u001b[38;5;66;03m# Iterate through each line in the .out file\u001b[39;00m\n",
      "\u001b[0;31mFileNotFoundError\u001b[0m: [Errno 2] No such file or directory: 'data/LHS_samples_v2.out'"
     ]
    }
   ],
   "source": [
    "input_file = 'data/LHS_samples_v1.out'\n",
    "output_file = 'data/vfr_power.dat'\n",
    "label = 'VFR Power'\n",
    "convertDat(input_file,output_file,label)\n",
    "input_file = 'data/LHS_samples_v5.out'\n",
    "output_file = 'data/vfr_timeToMaxPower.dat'\n",
    "label = 'VFR TimeToMaxPower'\n",
    "convertDat(input_file,output_file,label)"
   ]
  },
  {
   "cell_type": "code",
   "execution_count": null,
   "metadata": {},
   "outputs": [],
   "source": []
  }
 ],
 "metadata": {
  "kernelspec": {
   "display_name": "Python 3 (ipykernel)",
   "language": "python",
   "name": "python3"
  },
  "language_info": {
   "codemirror_mode": {
    "name": "ipython",
    "version": 3
   },
   "file_extension": ".py",
   "mimetype": "text/x-python",
   "name": "python",
   "nbconvert_exporter": "python",
   "pygments_lexer": "ipython3",
   "version": "3.8.8"
  }
 },
 "nbformat": 4,
 "nbformat_minor": 2
}
