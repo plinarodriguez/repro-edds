{
 "cells": [
  {
   "cell_type": "code",
   "execution_count": 8,
   "id": "1707f300",
   "metadata": {},
   "outputs": [],
   "source": [
    "import numpy as np\n",
    "import math\n",
    "import csv\n",
    "import pandas as pd\n",
    "import matplotlib.pyplot\n",
    "\n",
    "import plotfunctions\n",
    "%run plotfunctions.py\n",
    "import experiments\n",
    "%run experiments.py\n",
    "import simulations\n",
    "%run simulations.py\n",
    "import problem_description\n",
    "%run problem_description.py"
   ]
  },
  {
   "cell_type": "markdown",
   "id": "66a06d78",
   "metadata": {},
   "source": [
    "# Validation Study\n",
    "This analysis was performed on the Electronic Drug Delivery System (EDDS) with the following geometry, boundary conditions, and solver specifications. \n",
    "#### Operating Conditions\n",
    "Boundary Conditions\n",
    "- Inlet velocity: 0.5 [L/min]\n",
    "- Outlet Pressure: 101.33 [kPa]\n",
    "- Nonslip Walls\n",
    "- Applied Power Profile: Max of 1 Watt applied over 10 seconds \n",
    "\n",
    "Solver Tolerance\n",
    "- Residual Target: 1e-05 \n",
    "\n",
    "System State\n",
    "- Transient State\n",
    "- Duration: 14 [sec]\n",
    "- timestep: adaptive ranging from 0.0001[sec] to 0.01[sec]\n",
    "\n",
    "Fluid Type\n",
    "- Air at room temperature (incompressible fluid) "
   ]
  },
  {
   "cell_type": "markdown",
   "id": "a210afd6",
   "metadata": {},
   "source": [
    "#### System Response Quanty (SRQ)\n",
    "The SRQ's are the temperature measurements (temperature rise) at 4 radial positions located 1mm above the mouthpiece. See the following figure:   \n",
    "![srq.jpg](images/srq.jpg) ![srq_fullgeo.jpg](images/srq_fullgeo.jpg)"
   ]
  },
  {
   "cell_type": "code",
   "execution_count": 4,
   "id": "1210b021",
   "metadata": {},
   "outputs": [
    {
     "name": "stdout",
     "output_type": "stream",
     "text": [
      "GEOMETRY SPECIFICATIONS: \n",
      "         label  Diameter[mm]  Length[mm]  Thickness[mm]\n",
      "0  Mouthpiece          8.02      13.960           0.13\n",
      "1        Pipe          4.54      27.955           0.15\n",
      "2    Atomizer          4.54       7.500           0.15\n",
      "3  Inlet Pipe          4.54       2.170           0.15 \n",
      " {'Coil_qty': 12, 'Coil_Diameter': 0.3, 'Coil_Spacing': 0.5}\n"
     ]
    }
   ],
   "source": [
    "print('GEOMETRY SPECIFICATIONS: \\n',geom_db,'\\n',coil10)"
   ]
  },
  {
   "cell_type": "markdown",
   "id": "034b63f7",
   "metadata": {},
   "source": [
    "## Results - Qualitative Comparison\n",
    "For this analysis the sampling for both the experiments and the simulation were used to generate plots with the mean and one standard deviation, which can be seen in the following plot. "
   ]
  },
  {
   "cell_type": "code",
   "execution_count": 10,
   "id": "8f7f32ac",
   "metadata": {},
   "outputs": [
    {
     "ename": "NameError",
     "evalue": "name 'samples10stas' is not defined",
     "output_type": "error",
     "traceback": [
      "\u001b[0;31m---------------------------------------------------------------------------\u001b[0m",
      "\u001b[0;31mNameError\u001b[0m                                 Traceback (most recent call last)",
      "Cell \u001b[0;32mIn[10], line 2\u001b[0m\n\u001b[1;32m      1\u001b[0m points \u001b[38;5;241m=\u001b[39m [\u001b[38;5;124m'\u001b[39m\u001b[38;5;124mMonitor Point: Mouthpiece1mm0mmTempXdownYZ (Temperature) [K]\u001b[39m\u001b[38;5;124m'\u001b[39m,\u001b[38;5;124m'\u001b[39m\u001b[38;5;124mMonitor Point: Mouthpiece1mm0mmTempXupYZ (Temperature) [K]\u001b[39m\u001b[38;5;124m'\u001b[39m,\u001b[38;5;124m'\u001b[39m\u001b[38;5;124mMonitor Point: Mouthpiece1mm0mmTempX0YZ (Temperature) [K]\u001b[39m\u001b[38;5;124m'\u001b[39m,\u001b[38;5;124m'\u001b[39m\u001b[38;5;124mMonitor Point: Mouthpiece1mm0mmTempX0YupZ (Temperature) [K]\u001b[39m\u001b[38;5;124m'\u001b[39m,\u001b[38;5;124m'\u001b[39m\u001b[38;5;124mMonitor Point: Mouthpiece1mm0mmTempX0YdownZ (Temperature) [K]\u001b[39m\u001b[38;5;124m'\u001b[39m,\u001b[38;5;124m'\u001b[39m\u001b[38;5;124mMonitor Point: MouthpieceUp0mmTempzXdownYZ (Temperature) [K]\u001b[39m\u001b[38;5;124m'\u001b[39m,\u001b[38;5;124m'\u001b[39m\u001b[38;5;124mMonitor Point: MouthpieceUp0mmTempzXupYZup (Temperature) [K]\u001b[39m\u001b[38;5;124m'\u001b[39m,\u001b[38;5;124m'\u001b[39m\u001b[38;5;124mMonitor Point: MouthpieceUp0mmTempzX0YZup (Temperature) [K]\u001b[39m\u001b[38;5;124m'\u001b[39m,\u001b[38;5;124m'\u001b[39m\u001b[38;5;124mMonitor Point: MouthpieceUp0mmTempzX0YupZup (Temperature) [K]\u001b[39m\u001b[38;5;124m'\u001b[39m,\u001b[38;5;124m'\u001b[39m\u001b[38;5;124mMonitor Point: MouthpieceUp0mmTempzX0YdownZup (Temperature) [K]\u001b[39m\u001b[38;5;124m'\u001b[39m,\u001b[38;5;124m'\u001b[39m\u001b[38;5;124mMonitor Point: MouthpieceDown0mmTempzXdownYZ (Temperature) [K]\u001b[39m\u001b[38;5;124m'\u001b[39m,\u001b[38;5;124m'\u001b[39m\u001b[38;5;124mMonitor Point: MouthpieceDown0mmTempzXupYZdown (Temperature) [K]\u001b[39m\u001b[38;5;124m'\u001b[39m,\u001b[38;5;124m'\u001b[39m\u001b[38;5;124mMonitor Point: MouthpieceDown0mmTempzX0YZdown (Temperature) [K]\u001b[39m\u001b[38;5;124m'\u001b[39m,\u001b[38;5;124m'\u001b[39m\u001b[38;5;124mMonitor Point: MouthpieceDown0mmTempzX0YupZdown (Temperature) [K]\u001b[39m\u001b[38;5;124m'\u001b[39m,\u001b[38;5;124m'\u001b[39m\u001b[38;5;124mMonitor Point: MouthpieceDown0mmTempzX0YdownZdown (Temperature) [K]\u001b[39m\u001b[38;5;124m'\u001b[39m]\n\u001b[0;32m----> 2\u001b[0m meanSamplesP0, stdSamplesP0 \u001b[38;5;241m=\u001b[39m \u001b[43msamples10stas\u001b[49m(points,tempS1,tempS2,tempS3,tempS4,tempS5,tempS6,tempS7,tempS8,tempS9,tempS10)\n\u001b[1;32m      3\u001b[0m r \u001b[38;5;241m=\u001b[39m \u001b[38;5;241m0\u001b[39m \u001b[38;5;66;03m# radius for label\u001b[39;00m\n\u001b[1;32m      4\u001b[0m save \u001b[38;5;241m=\u001b[39m \u001b[38;5;124m'\u001b[39m\u001b[38;5;124mYES\u001b[39m\u001b[38;5;124m'\u001b[39m \u001b[38;5;66;03m# 'YES'\u001b[39;00m\n",
      "\u001b[0;31mNameError\u001b[0m: name 'samples10stas' is not defined"
     ]
    }
   ],
   "source": [
    "points = ['Monitor Point: Mouthpiece1mm0mmTempXdownYZ (Temperature) [K]','Monitor Point: Mouthpiece1mm0mmTempXupYZ (Temperature) [K]','Monitor Point: Mouthpiece1mm0mmTempX0YZ (Temperature) [K]','Monitor Point: Mouthpiece1mm0mmTempX0YupZ (Temperature) [K]','Monitor Point: Mouthpiece1mm0mmTempX0YdownZ (Temperature) [K]','Monitor Point: MouthpieceUp0mmTempzXdownYZ (Temperature) [K]','Monitor Point: MouthpieceUp0mmTempzXupYZup (Temperature) [K]','Monitor Point: MouthpieceUp0mmTempzX0YZup (Temperature) [K]','Monitor Point: MouthpieceUp0mmTempzX0YupZup (Temperature) [K]','Monitor Point: MouthpieceUp0mmTempzX0YdownZup (Temperature) [K]','Monitor Point: MouthpieceDown0mmTempzXdownYZ (Temperature) [K]','Monitor Point: MouthpieceDown0mmTempzXupYZdown (Temperature) [K]','Monitor Point: MouthpieceDown0mmTempzX0YZdown (Temperature) [K]','Monitor Point: MouthpieceDown0mmTempzX0YupZdown (Temperature) [K]','Monitor Point: MouthpieceDown0mmTempzX0YdownZdown (Temperature) [K]']\n",
    "meanSamplesP0, stdSamplesP0 = samples10stas(points,tempS1,tempS2,tempS3,tempS4,tempS5,tempS6,tempS7,tempS8,tempS9,tempS10)\n",
    "r = 0 # radius for label\n",
    "save = 'YES' # 'YES'\n",
    "plotexp = 'YES' # 'YES'\n",
    "sim_exp_uncertainties(timeE,avg0,u0,l0,tempS1,meanSamplesP0,stdSamplesP0,r,save,plotexp)\n",
    "\n",
    "points = ['Monitor Point: Mouthpiece1mm1mmTempXdownYZ (Temperature) [K]','Monitor Point: Mouthpiece1mm1mmTempXupYZ (Temperature) [K]','Monitor Point: Mouthpiece1mm1mmTempX0YZ (Temperature) [K]','Monitor Point: Mouthpiece1mm1mmTempX0YupZ (Temperature) [K]','Monitor Point: Mouthpiece1mm1mmTempX0YdownZ (Temperature) [K]','Monitor Point: MouthpieceUp1mmTempzXdownZ (Temperature) [K]','Monitor Point: MouthpieceUp1mmTempzXupYZup (Temperature) [K]','Monitor Point: MouthpieceUp1mmTempzX0YZup (Temperature) [K]','Monitor Point: MouthpieceUp1mmTempzX0YupZup (Temperature) [K]','Monitor Point: MouthpieceUp1mmTempzX0YdownZup (Temperature) [K]','Monitor Point: MouthpieceDown1mmTempzXdownYZ (Temperature) [K]','Monitor Point: MouthpieceDown1mmTempzXupYZdown (Temperature) [K]','Monitor Point: MouthpieceDown1mmTempzX0YZdown (Temperature) [K]','Monitor Point: MouthpieceDown1mmTempzX0YupZdown (Temperature) [K]','Monitor Point: MouthpieceDown1mmTempzX0YdownZdown (Temperature) [K]']\n",
    "meanSamplesP1, stdSamplesP1 = samples10stas(points,tempS1,tempS2,tempS3,tempS4,tempS5,tempS6,tempS7,tempS8,tempS9,tempS10)\n",
    "r = 1 # radius for label\n",
    "save = 'YES' # 'YES'\n",
    "plotexp = 'YES' # 'YES'\n",
    "sim_exp_uncertainties(timeE,avg1,u1,l1,tempS1,meanSamplesP1,stdSamplesP1,r,save,plotexp)\n",
    "\n",
    "points = ['Monitor Point: Mouthpiece1mm2mmTempXdownYZ (Temperature) [K]','Monitor Point: Mouthpiece1mm2mmTempXupYZ (Temperature) [K]','Monitor Point: Mouthpiece1mm2mmTempX0YZ (Temperature) [K]','Monitor Point: Mouthpiece1mm2mmTempX0YupZ (Temperature) [K]','Monitor Point: Mouthpiece1mm2mmTempX0YdownZ (Temperature) [K]','Monitor Point: MouthpieceUp2mmTempzXdownYZ (Temperature) [K]','Monitor Point: MouthpieceUp2mmTempzXupYZup (Temperature) [K]','Monitor Point: MouthpieceUp2mmTempzX0YZup (Temperature) [K]','Monitor Point: MouthpieceUp2mmTempzX0YupZup (Temperature) [K]','Monitor Point: MouthpieceUp2mmTempzX0YdownZup (Temperature) [K]','Monitor Point: MouthpieceDown2mmTempzXdownYZ (Temperature) [K]','Monitor Point: MouthpieceDown2mmTempzXupYZdown (Temperature) [K]','Monitor Point: MouthpieceDown2mmTempzX0YZdown (Temperature) [K]','Monitor Point: MouthpieceDown2mmTempzX0YupZdown (Temperature) [K]','Monitor Point: MouthpieceDown2mmTempzX0YdownZdpwm (Temperature) [K]']\n",
    "meanSamplesP2, stdSamplesP2 = samples10stas(points,tempS1,tempS2,tempS3,tempS4,tempS5,tempS6,tempS7,tempS8,tempS9,tempS10)\n",
    "r = 2 # radius for label\n",
    "save = 'YES' # 'YES'\n",
    "plotexp = 'YES' # 'YES'\n",
    "sim_exp_uncertainties(timeE,avg2,u2,l2,tempS1,meanSamplesP2,stdSamplesP2,r,save,plotexp)\n",
    "\n",
    "points = ['Monitor Point: Mouthpiece1mm3mmTempXdownYZ (Temperature) [K]','Monitor Point: Mouthpiece1mm3mmTempXupYZ (Temperature) [K]','Monitor Point: Mouthpiece1mm3mmTempX0YZ (Temperature) [K]','Monitor Point: Mouthpiece1mm3mmTempX0YupZ (Temperature) [K]','Monitor Point: Mouthpiece1mm3mmTempX0YdownZ (Temperature) [K]','Monitor Point: MouthpieceUp3mmTempzXdownYZ (Temperature) [K]','Monitor Point: MouthpieceUp3mmTempzXupYZup (Temperature) [K]','Monitor Point: MouthpieceUp3mmTempzX0YZup (Temperature) [K]','Monitor Point: MouthpieceUp3mmTempzX0YupZup (Temperature) [K]','Monitor Point: MouthpieceUp3mmTempzX0YdownZup (Temperature) [K]','Monitor Point: MouthpieceDown3mmTempzXdownYZ (Temperature) [K]','Monitor Point: MouthpieceDown3mmTempzXupYZdown (Temperature) [K]','Monitor Point: MouthpieceDown3mmTempzX0YZdown (Temperature) [K]','Monitor Point: MouthpieceDown3mmTempzX0YupZdown (Temperature) [K]','Monitor Point: MouthpieceDown3mmTempzX0YdownZdown (Temperature) [K]']\n",
    "meanSamplesP3, stdSamplesP3 = samples10stas(points,tempS1,tempS2,tempS3,tempS4,tempS5,tempS6,tempS7,tempS8,tempS9,tempS10)\n",
    "r = 3 # radius for label\n",
    "save = 'YES' # 'YES'\n",
    "plotexp = 'NO' # 'YES'\n",
    "sim_exp_uncertainties(timeE,avg1,u1,l1,tempS1,meanSamplesP3,stdSamplesP3,r,save,plotexp)\n",
    "\n",
    "points = ['Monitor Point: Mouthpiece1mm4mmTempXdownYZ (Temperature) [K]','Monitor Point: Mouthpiece1mm4mmTempXupYZ (Temperature) [K]','Monitor Point: Mouthpiece1mm4mmTempX0YZ (Temperature) [K]','Monitor Point: Mouthpiece1mm4mmTempX0YupZ (Temperature) [K]','Monitor Point: Mouthpiece1mm4mmTempX0YdownZ (Temperature) [K]','Monitor Point: MouthpieceUp4mmTempXdownYZ (Temperature) [K]','Monitor Point: MouthpieceUp4mmTempXupYZup (Temperature) [K]','Monitor Point: MouthpieceUp4mmTempX0YZup (Temperature) [K]','Monitor Point: MouthpieceUp4mmTempX0YupZup (Temperature) [K]','Monitor Point: MouthpieceUp4mmTempX0YdownZup (Temperature) [K]','Monitor Point: MouthpieceDown4mmTempzXdownYZ (Temperature) [K]','Monitor Point: MouthpieceDown4mmTempzXupYZdown (Temperature) [K]','Monitor Point: MouthpieceDown4mmTempzX0YZdown (Temperature) [K]','Monitor Point: MouthpieceDown4mmTempzX0YupZdown (Temperature) [K]','Monitor Point: MouthpieceDown4mmTempzX0YdownZdown (Temperature) [K]']\n",
    "meanSamplesP4, stdSamplesP4 = samples10stas(points,tempS1,tempS2,tempS3,tempS4,tempS5,tempS6,tempS7,tempS8,tempS9,tempS10)\n",
    "r = 4 # radius for label\n",
    "save = 'YES' # 'YES'\n",
    "plotexp = 'YES' # 'YES'\n",
    "sim_exp_uncertainties(timeE,avg4,u4,l4,tempS1,meanSamplesP4,stdSamplesP4,r,save,plotexp)"
   ]
  },
  {
   "cell_type": "code",
   "execution_count": null,
   "id": "13fae58f",
   "metadata": {},
   "outputs": [],
   "source": []
  },
  {
   "cell_type": "code",
   "execution_count": null,
   "id": "d79f90ff",
   "metadata": {},
   "outputs": [],
   "source": []
  },
  {
   "cell_type": "code",
   "execution_count": null,
   "id": "3f88797a",
   "metadata": {},
   "outputs": [],
   "source": []
  },
  {
   "cell_type": "markdown",
   "id": "bbd30a84",
   "metadata": {},
   "source": [
    "## Results - Quantitative Deterministic Comparison"
   ]
  },
  {
   "cell_type": "code",
   "execution_count": null,
   "id": "eaa9ca11",
   "metadata": {},
   "outputs": [],
   "source": []
  }
 ],
 "metadata": {
  "kernelspec": {
   "display_name": "Python 3 (ipykernel)",
   "language": "python",
   "name": "python3"
  },
  "language_info": {
   "codemirror_mode": {
    "name": "ipython",
    "version": 3
   },
   "file_extension": ".py",
   "mimetype": "text/x-python",
   "name": "python",
   "nbconvert_exporter": "python",
   "pygments_lexer": "ipython3",
   "version": "3.8.8"
  }
 },
 "nbformat": 4,
 "nbformat_minor": 5
}
