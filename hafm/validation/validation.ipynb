{
 "cells": [
  {
   "cell_type": "code",
   "execution_count": 2,
   "id": "a1157b4b",
   "metadata": {},
   "outputs": [],
   "source": [
    "import numpy as np\n",
    "import math\n",
    "import csv\n",
    "import pandas as pd\n",
    "import matplotlib.pyplot\n",
    "\n",
    "import plotfunctions\n",
    "%run plotfunctions.py\n",
    "import experiments\n",
    "%run experiments.py\n",
    "import simulations\n",
    "%run simulations.py\n",
    "import problem_description\n",
    "%run problem_description.py"
   ]
  },
  {
   "cell_type": "markdown",
   "id": "3aa746ed",
   "metadata": {},
   "source": [
    "# Validation Study\n",
    "This analysis was performed on the Electronic Drug Delivery System (EDDS) with the following geometry, boundary conditions, and solver specifications. \n",
    "#### Operating Conditions\n",
    "Boundary Conditions\n",
    "- Inlet velocity: 0.5 [L/min]\n",
    "- Outlet Pressure: 101.33 [kPa]\n",
    "- Nonslip Walls\n",
    "- Applied Power Profile: Max of 1 Watt applied over 10 seconds \n",
    "\n",
    "Solver Tolerance\n",
    "- Residual Target: 1e-05 \n",
    "\n",
    "System State\n",
    "- Transient State\n",
    "- Duration: 14 [sec]\n",
    "- timestep: adaptive ranging from 0.0001[sec] to 0.01[sec]\n",
    "\n",
    "Fluid Type\n",
    "- Air at room temperature (incompressible fluid) "
   ]
  },
  {
   "cell_type": "markdown",
   "id": "af99aef3",
   "metadata": {},
   "source": [
    "#### System Response Quanty (SRQ)\n",
    "The SRQ's are the temperature measurements (temperature rise) at 4 radial positions located 1mm above the mouthpiece. See the following figure:   \n",
    "![srq.jpg](images/srq.jpg) ![srq_fullgeo.jpg](images/srq_fullgeo.jpg)"
   ]
  },
  {
   "cell_type": "code",
   "execution_count": 3,
   "id": "26b05dcb",
   "metadata": {},
   "outputs": [
    {
     "name": "stdout",
     "output_type": "stream",
     "text": [
      "GEOMETRY SPECIFICATIONS: \n",
      "         label  Diameter[mm]  Length[mm]  Thickness[mm]\n",
      "0  Mouthpiece          8.02      13.960           0.13\n",
      "1        Pipe          4.54      27.955           0.15\n",
      "2    Atomizer          4.54       7.500           0.15\n",
      "3  Inlet Pipe          4.54       2.170           0.15 \n",
      " {'Coil_qty': 12, 'Coil_Diameter': 0.3, 'Coil_Spacing': 0.5}\n"
     ]
    }
   ],
   "source": [
    "print('GEOMETRY SPECIFICATIONS: \\n',geom_db,'\\n',coil10)"
   ]
  },
  {
   "cell_type": "markdown",
   "id": "e62f8fa1",
   "metadata": {},
   "source": [
    "## Results - Qualitative Comparison\n",
    "For this analysis the sampling for both the experiments and the simulation were used to generate plots with the mean and one standard deviation, which can be seen in the following plot. "
   ]
  },
  {
   "cell_type": "code",
   "execution_count": null,
   "id": "0aa3f82d",
   "metadata": {},
   "outputs": [],
   "source": []
  },
  {
   "cell_type": "code",
   "execution_count": null,
   "id": "a3a254f9",
   "metadata": {},
   "outputs": [],
   "source": []
  },
  {
   "cell_type": "code",
   "execution_count": null,
   "id": "2cd3e44d",
   "metadata": {},
   "outputs": [],
   "source": []
  },
  {
   "cell_type": "code",
   "execution_count": null,
   "id": "deec941d",
   "metadata": {},
   "outputs": [],
   "source": []
  },
  {
   "cell_type": "code",
   "execution_count": null,
   "id": "b947ad52",
   "metadata": {},
   "outputs": [],
   "source": []
  },
  {
   "cell_type": "markdown",
   "id": "42db9ee2",
   "metadata": {},
   "source": [
    "## Results - Quantitative Deterministic Comparison"
   ]
  },
  {
   "cell_type": "code",
   "execution_count": null,
   "id": "92c984f6",
   "metadata": {},
   "outputs": [],
   "source": []
  }
 ],
 "metadata": {
  "kernelspec": {
   "display_name": "Python 3 (ipykernel)",
   "language": "python",
   "name": "python3"
  },
  "language_info": {
   "codemirror_mode": {
    "name": "ipython",
    "version": 3
   },
   "file_extension": ".py",
   "mimetype": "text/x-python",
   "name": "python",
   "nbconvert_exporter": "python",
   "pygments_lexer": "ipython3",
   "version": "3.8.8"
  }
 },
 "nbformat": 4,
 "nbformat_minor": 5
}
