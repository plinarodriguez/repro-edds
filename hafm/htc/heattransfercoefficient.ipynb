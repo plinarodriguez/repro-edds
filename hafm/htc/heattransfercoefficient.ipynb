{
 "cells": [
  {
   "cell_type": "markdown",
   "id": "edf4aabe",
   "metadata": {},
   "source": [
    "## Calculating Boundary Conditions\n",
    "Reynolds Number for external flow: \n",
    "$$ Re_{ext} = \\dfrac{\\rho U D}{\\mu}$$\n",
    "- $\\rho$: Density of external flow\n",
    "- $U$: Velocity of external flow\n",
    "- $D$: Diameter of pipe\n",
    "- $\\mu$: viscosity of external flow"
   ]
  },
  {
   "cell_type": "code",
   "execution_count": 7,
   "id": "267642de",
   "metadata": {},
   "outputs": [
    {
     "data": {
      "text/plain": [
       "[3.0862930077691453, 2.678412874583796, 5.451997780244173]"
      ]
     },
     "execution_count": 7,
     "metadata": {},
     "output_type": "execute_result"
    }
   ],
   "source": [
    "rho = 1.225 # [kg/m^3] of air \n",
    "u = 0.01   # [m/s], velocity of flow around pipe, ???unsure of this quantity\n",
    "diameters = [0.00454,0.00394,0.00802]   # m, [0] inlet, [1] coil (coil d=0.3mm), [2] mouthpiece\n",
    "mu = 1.802*10**(-5)  # kg/m*s, viscority of air\n",
    "\n",
    "def reynoldsnum(u,d):\n",
    "    re = (rho * u *d )/mu  # Reylnolds number\n",
    "    return(re)\n",
    "\n",
    "reynolds = []  # inlet, coils, mouthpiece\n",
    "for diam in d:\n",
    "    reynolds.append(reynoldsnum(u,diam))\n",
    "\n",
    "# For analysis of external flow around the mouthpiece\n",
    "d = diameters[2]\n",
    "re = reynolds[2]\n",
    "reynolds"
   ]
  },
  {
   "cell_type": "markdown",
   "id": "a7bde73c",
   "metadata": {},
   "source": [
    "## Nusselt Number\n",
    "The Nusselt number can be calculated from the Reynolds number and the Prandtl number. Given the Reynolds number we can calculate the Nusselt number from this empirical correlation: \n",
    "$$ Nu = c * Re^{m}*Pr^{1/3}$$\n",
    "Note: $c$ & $m$ are constants (look up in book: https://hyominsite.files.wordpress.com/2015/03/fundamentals-of-heat-and-mass-transfer-6th-edition.pdf)\n",
    "\n",
    "<img src=\"nusselt_empirical_correlation.png\" width=50%>\n",
    "\n"
   ]
  },
  {
   "cell_type": "code",
   "execution_count": 8,
   "id": "6786eacb",
   "metadata": {},
   "outputs": [],
   "source": [
    "pr = 0.71 # Prandtl number at room temperature\n",
    "# Given Reynolds number = 67980.02219755827\n",
    "if 0.4 < re < 4:\n",
    "    c,m = 0.989,0.330    \n",
    "if 4 < re < 40:\n",
    "    c,m = 0.911,0.385    \n",
    "if 40 < re < 4000:\n",
    "    c,m = 0.683,0.466\n",
    "if 4000 < re < 40000:\n",
    "    c,m = 0.193,0.618\n",
    "if 40000 < re < 400000:\n",
    "    c,m = 0.027,0.805"
   ]
  },
  {
   "cell_type": "code",
   "execution_count": 9,
   "id": "395bce08",
   "metadata": {},
   "outputs": [],
   "source": [
    "nu = c * (re**(m))*(pr**(1/3))"
   ]
  },
  {
   "cell_type": "markdown",
   "id": "6fe20370",
   "metadata": {},
   "source": [
    "## Heat Flux \n",
    "The nusselt number is a nondimensionalization of the heat flux \n",
    "$$ Nu = \\dfrac{h_{ext}*d}{k_{air}} $$ \n",
    "we are solving for the heat flux: $h_{ext}$, given the Nusselt number we have: \n",
    "$$ h_{ext} = \\dfrac{Nu*k_{air}}{d}$$\n",
    "Note: $k_{air}$ is the kinematic viscosity of air. "
   ]
  },
  {
   "cell_type": "code",
   "execution_count": 10,
   "id": "ed15f4b4",
   "metadata": {},
   "outputs": [],
   "source": [
    "k_air = 0.024676  # kinematic viscosity of air"
   ]
  },
  {
   "cell_type": "code",
   "execution_count": 11,
   "id": "4875e75b",
   "metadata": {},
   "outputs": [],
   "source": [
    "h_ext = nu*k_air/d"
   ]
  },
  {
   "cell_type": "markdown",
   "id": "8f51dc29",
   "metadata": {},
   "source": [
    "## Test: Choice of Cross Flow Velocity (U)"
   ]
  },
  {
   "cell_type": "code",
   "execution_count": 12,
   "id": "3d2b824a",
   "metadata": {},
   "outputs": [],
   "source": [
    "import pandas as pd"
   ]
  },
  {
   "cell_type": "code",
   "execution_count": 13,
   "id": "00572fe6",
   "metadata": {},
   "outputs": [],
   "source": [
    "def heatflux(rho,u,d,mu,pr,k_air):\n",
    "    re = (rho * u *d )/mu  # Reylnolds number\n",
    "    # empirical correlations \n",
    "    if 0.4 < re < 4:\n",
    "        c,m = 0.989,0.330    \n",
    "    if 4 < re < 40:\n",
    "        c,m = 0.911,0.385    \n",
    "    if 40 < re < 4000:\n",
    "        c,m = 0.683,0.466\n",
    "    if 4000 < re < 40000:\n",
    "        c,m = 0.193,0.618\n",
    "    if 40000 < re < 400000:\n",
    "        c,m = 0.027,0.805\n",
    "    nu = c * (re**(m))*(pr**(1/3))\n",
    "    h_ext = nu*k_air/d\n",
    "    return(h_ext)"
   ]
  },
  {
   "cell_type": "code",
   "execution_count": 14,
   "id": "4a25cb79",
   "metadata": {},
   "outputs": [],
   "source": [
    "# Try a variety of external flow rates: \n",
    "u = [0.0009,0.001,0.005,0.01,0.05,0.1,0.49,0.5]\n",
    "hf = []\n",
    "for vel in u:\n",
    "    h_ext = heatflux(rho,vel,d,mu,pr,k_air)\n",
    "    hf.append(h_ext)"
   ]
  },
  {
   "cell_type": "code",
   "execution_count": 15,
   "id": "fa024ac3",
   "metadata": {},
   "outputs": [
    {
     "data": {
      "text/html": [
       "<div>\n",
       "<style scoped>\n",
       "    .dataframe tbody tr th:only-of-type {\n",
       "        vertical-align: middle;\n",
       "    }\n",
       "\n",
       "    .dataframe tbody tr th {\n",
       "        vertical-align: top;\n",
       "    }\n",
       "\n",
       "    .dataframe thead th {\n",
       "        text-align: right;\n",
       "    }\n",
       "</style>\n",
       "<table border=\"1\" class=\"dataframe\">\n",
       "  <thead>\n",
       "    <tr style=\"text-align: right;\">\n",
       "      <th></th>\n",
       "      <th>Cross Flow (m/s)</th>\n",
       "      <th>Heat Flux</th>\n",
       "    </tr>\n",
       "  </thead>\n",
       "  <tbody>\n",
       "    <tr>\n",
       "      <th>0</th>\n",
       "      <td>0.0009</td>\n",
       "      <td>2.146246</td>\n",
       "    </tr>\n",
       "    <tr>\n",
       "      <th>1</th>\n",
       "      <td>0.0010</td>\n",
       "      <td>2.222181</td>\n",
       "    </tr>\n",
       "    <tr>\n",
       "      <th>2</th>\n",
       "      <td>0.0050</td>\n",
       "      <td>3.779546</td>\n",
       "    </tr>\n",
       "    <tr>\n",
       "      <th>3</th>\n",
       "      <td>0.0100</td>\n",
       "      <td>4.804101</td>\n",
       "    </tr>\n",
       "    <tr>\n",
       "      <th>4</th>\n",
       "      <td>0.0500</td>\n",
       "      <td>8.927207</td>\n",
       "    </tr>\n",
       "    <tr>\n",
       "      <th>5</th>\n",
       "      <td>0.1000</td>\n",
       "      <td>12.083020</td>\n",
       "    </tr>\n",
       "    <tr>\n",
       "      <th>6</th>\n",
       "      <td>0.4900</td>\n",
       "      <td>25.340015</td>\n",
       "    </tr>\n",
       "    <tr>\n",
       "      <th>7</th>\n",
       "      <td>0.5000</td>\n",
       "      <td>25.579704</td>\n",
       "    </tr>\n",
       "  </tbody>\n",
       "</table>\n",
       "</div>"
      ],
      "text/plain": [
       "   Cross Flow (m/s)  Heat Flux\n",
       "0            0.0009   2.146246\n",
       "1            0.0010   2.222181\n",
       "2            0.0050   3.779546\n",
       "3            0.0100   4.804101\n",
       "4            0.0500   8.927207\n",
       "5            0.1000  12.083020\n",
       "6            0.4900  25.340015\n",
       "7            0.5000  25.579704"
      ]
     },
     "execution_count": 15,
     "metadata": {},
     "output_type": "execute_result"
    }
   ],
   "source": [
    "utest = pd.DataFrame({'Cross Flow (m/s)':u, 'Heat Flux':hf})\n",
    "utest"
   ]
  },
  {
   "cell_type": "markdown",
   "id": "397970c9",
   "metadata": {},
   "source": [
    "## Mesh Calculations"
   ]
  },
  {
   "cell_type": "code",
   "execution_count": 25,
   "id": "2524846f",
   "metadata": {},
   "outputs": [],
   "source": [
    "import numpy as np"
   ]
  },
  {
   "cell_type": "code",
   "execution_count": 26,
   "id": "baf9b5ef",
   "metadata": {},
   "outputs": [
    {
     "data": {
      "text/plain": [
       "2108.40038845727"
      ]
     },
     "execution_count": 26,
     "metadata": {},
     "output_type": "execute_result"
    }
   ],
   "source": [
    "L =  0.06203 # mm, includes all airflow (inside device and airflow)\n",
    "# L = 0.00454 # mm diameter\n",
    "u_int = 0.5 # m/s\n",
    "re_int = rho*u_int*L/mu  # for internal flow\n",
    "re_int"
   ]
  },
  {
   "cell_type": "code",
   "execution_count": 18,
   "id": "dfbb5e77",
   "metadata": {},
   "outputs": [
    {
     "data": {
      "text/plain": [
       "81.10198718950386"
      ]
     },
     "execution_count": 18,
     "metadata": {},
     "output_type": "execute_result"
    }
   ],
   "source": [
    "# c_f: skin friction coeffient - based on empirical result ????\n",
    "c_f = ((2.0*np.log10(re_int))-6.5)**(-2.3) \n",
    "c_f"
   ]
  },
  {
   "cell_type": "code",
   "execution_count": 19,
   "id": "29ad8533",
   "metadata": {},
   "outputs": [
    {
     "data": {
      "text/plain": [
       "0.028921547785850973"
      ]
     },
     "execution_count": 19,
     "metadata": {},
     "output_type": "execute_result"
    }
   ],
   "source": [
    "#based on a formula????\n",
    "c_f = 1.328/np.sqrt(re_int)\n",
    "c_f"
   ]
  },
  {
   "cell_type": "code",
   "execution_count": 20,
   "id": "99f2b647",
   "metadata": {},
   "outputs": [
    {
     "data": {
      "text/plain": [
       "0.017714448018833723"
      ]
     },
     "execution_count": 20,
     "metadata": {},
     "output_type": "execute_result"
    }
   ],
   "source": [
    "# wall shear stress \n",
    "tau_w = (0.5*rho*u_int*2)*c_f\n",
    "tau_w"
   ]
  },
  {
   "cell_type": "code",
   "execution_count": 21,
   "id": "4392029a",
   "metadata": {},
   "outputs": [
    {
     "data": {
      "text/plain": [
       "0.1202529579383621"
      ]
     },
     "execution_count": 21,
     "metadata": {},
     "output_type": "execute_result"
    }
   ],
   "source": [
    "# friction velocity\n",
    "u_tau = np.sqrt(tau_w/rho)\n",
    "u_tau"
   ]
  },
  {
   "cell_type": "code",
   "execution_count": 23,
   "id": "7aa83fb6",
   "metadata": {},
   "outputs": [],
   "source": [
    "# initial guess\n",
    "# y_plus = rho*y_p*u_tau/mu\n",
    "# y_p = y_plus*mu/(rho*u_tau)\n",
    "# if in post processing y+ is too large then make smaller <1.0"
   ]
  },
  {
   "cell_type": "code",
   "execution_count": null,
   "id": "3461857c",
   "metadata": {},
   "outputs": [],
   "source": []
  }
 ],
 "metadata": {
  "kernelspec": {
   "display_name": "Python 3 (ipykernel)",
   "language": "python",
   "name": "python3"
  },
  "language_info": {
   "codemirror_mode": {
    "name": "ipython",
    "version": 3
   },
   "file_extension": ".py",
   "mimetype": "text/x-python",
   "name": "python",
   "nbconvert_exporter": "python",
   "pygments_lexer": "ipython3",
   "version": "3.8.8"
  }
 },
 "nbformat": 4,
 "nbformat_minor": 5
}
